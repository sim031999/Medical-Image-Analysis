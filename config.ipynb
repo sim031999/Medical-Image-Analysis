{
  "nbformat": 4,
  "nbformat_minor": 0,
  "metadata": {
    "colab": {
      "name": "config.ipynb",
      "version": "0.3.2",
      "provenance": [],
      "collapsed_sections": [],
      "include_colab_link": true
    },
    "kernelspec": {
      "name": "python2",
      "display_name": "Python 2"
    }
  },
  "cells": [
    {
      "cell_type": "markdown",
      "metadata": {
        "id": "view-in-github",
        "colab_type": "text"
      },
      "source": [
        "<a href=\"https://colab.research.google.com/github/sim031999/Medical-Image-Analysis/blob/master/config.ipynb\" target=\"_parent\"><img src=\"https://colab.research.google.com/assets/colab-badge.svg\" alt=\"Open In Colab\"/></a>"
      ]
    },
    {
      "cell_type": "code",
      "metadata": {
        "id": "pzUwM43RsB8i",
        "colab_type": "code",
        "colab": {}
      },
      "source": [
        "import torch.nn as nn\n",
        "class AlexNet3d(nn.Module):\n",
        "\n",
        "    def __init__(self, num_classes=100):\n",
        "        super(AlexNet3d, self).__init__()\n",
        "        self.features = nn.Sequential(\n",
        "            nn.Conv3d(3, 64, kernel_size=(11,11,3), stride=(4,4,1), padding=(2,2,1)),\n",
        "            nn.ReLU(inplace=True),\n",
        "            nn.MaxPool3d(kernel_size=(3,3,1), stride=(2,2,1)),\n",
        "            nn.Conv3d(64, 192, kernel_size=(5,5,3), padding=(2,2,1)),\n",
        "            nn.ReLU(inplace=True),\n",
        "            nn.MaxPool3d(kernel_size=(3,3,1), stride=(2,2,1)),\n",
        "            nn.Conv3d(192, 384, kernel_size=(3,3,3), padding=(1,1,1)),\n",
        "            nn.ReLU(inplace=True),\n",
        "            nn.Conv3d(384, 256, kernel_size=(3,3,3), padding=(1,1,1)),\n",
        "            nn.ReLU(inplace=True),\n",
        "            nn.Conv3d(256, 256, kernel_size=(3,3,3), padding=(1,1,1)),\n",
        "            nn.ReLU(inplace=True),\n",
        "            nn.MaxPool3d(kernel_size=(3,3,1), stride=(2,2,1)),\n",
        "        )\n",
        "        self.classifier = nn.Sequential(\n",
        "            nn.Dropout(),\n",
        "            nn.Linear(256 * 6 * 6* 4, 4096),\n",
        "            nn.ReLU(inplace=True),\n",
        "            nn.Dropout(),\n",
        "            nn.Linear(4096, 4096),\n",
        "            nn.ReLU(inplace=True),\n",
        "            nn.Linear(4096, num_classes),\n",
        "        )\n",
        "\n",
        "    def forward(self, x):\n",
        "        x = self.features(x)\n",
        "        x = x.view(x.size(0), 256 * 6 * 6 * 4)\n",
        "        x = self.classifier(x)\n",
        "        return x\n",
        "alexnet3d = AlexNet3d()"
      ],
      "execution_count": 0,
      "outputs": []
    },
    {
      "cell_type": "code",
      "metadata": {
        "id": "Cb4bgDeQwiP0",
        "colab_type": "code",
        "outputId": "e4871ced-62e6-4606-8e0e-9b8322827b63",
        "colab": {
          "base_uri": "https://localhost:8080/",
          "height": 70
        }
      },
      "source": [
        "import torchvision.models as models\n",
        "alexnet=models.alexnet(pretrained=True)"
      ],
      "execution_count": 0,
      "outputs": [
        {
          "output_type": "stream",
          "text": [
            "Downloading: \"https://download.pytorch.org/models/alexnet-owt-4df8aa71.pth\" to /root/.cache/torch/checkpoints/alexnet-owt-4df8aa71.pth\n",
            "100%|██████████| 244418560/244418560 [00:03<00:00, 69252467.45it/s]\n"
          ],
          "name": "stderr"
        }
      ]
    },
    {
      "cell_type": "code",
      "metadata": {
        "id": "YJB3w5DkxHgW",
        "colab_type": "code",
        "colab": {}
      },
      "source": [
        "tensor2=alexnet.features[3].weight"
      ],
      "execution_count": 0,
      "outputs": []
    },
    {
      "cell_type": "code",
      "metadata": {
        "id": "uadScHQ_xQwD",
        "colab_type": "code",
        "colab": {}
      },
      "source": [
        "tensor3=tensor2.clone()\n",
        "tensor3=tensor3.unsqueeze_(-1)\n",
        "tensor3=tensor3.expand(192,64,5,5,3)"
      ],
      "execution_count": 0,
      "outputs": []
    },
    {
      "cell_type": "code",
      "metadata": {
        "id": "WnytFbU7LiMP",
        "colab_type": "code",
        "colab": {}
      },
      "source": [
        "import torch\n",
        "alexnet3d.features[3].weight=torch.nn.Parameter(tensor3)"
      ],
      "execution_count": 0,
      "outputs": []
    },
    {
      "cell_type": "code",
      "metadata": {
        "id": "NA23Zn8xM-jD",
        "colab_type": "code",
        "colab": {}
      },
      "source": [
        "tensor6=alexnet.features[6].weight\n",
        "tensor7=tensor6.clone()\n",
        "tensor7=tensor7.unsqueeze_(-1)\n",
        "tensor7=tensor7.expand(384,192,3,3,3)\n",
        "alexnet3d.features[6].weight=torch.nn.Parameter(tensor7)"
      ],
      "execution_count": 0,
      "outputs": []
    },
    {
      "cell_type": "code",
      "metadata": {
        "id": "AFngIwnLNh3W",
        "colab_type": "code",
        "colab": {}
      },
      "source": [
        "tensor8=alexnet.features[8].weight\n",
        "tensor9=tensor8.clone()\n",
        "tensor9=tensor9.unsqueeze_(-1)\n",
        "tensor9=tensor9.expand(256,384,3,3,3)\n",
        "alexnet3d.features[8].weight=torch.nn.Parameter(tensor9)"
      ],
      "execution_count": 0,
      "outputs": []
    },
    {
      "cell_type": "code",
      "metadata": {
        "id": "kfsPieNdNwkW",
        "colab_type": "code",
        "colab": {}
      },
      "source": [
        "tensor10=alexnet.features[10].weight\n",
        "tensor11=tensor10.clone()\n",
        "tensor11=tensor11.unsqueeze_(-1)\n",
        "tensor11=tensor11.expand(256,256,3,3,3)\n",
        "alexnet3d.features[10].weight=torch.nn.Parameter(tensor11)"
      ],
      "execution_count": 0,
      "outputs": []
    },
    {
      "cell_type": "code",
      "metadata": {
        "id": "EjQEPGbxOT-d",
        "colab_type": "code",
        "colab": {}
      },
      "source": [
        "tensor0=alexnet.features[0].weight\n",
        "tensor01=tensor0.clone()\n",
        "tensor01=tensor01.unsqueeze_(-1)\n",
        "tensor01=tensor01.expand(64,3,11,11,3)\n",
        "alexnet3d.features[0].weight=torch.nn.Parameter(tensor01)"
      ],
      "execution_count": 0,
      "outputs": []
    },
    {
      "cell_type": "code",
      "metadata": {
        "id": "g-93g6pBq54Q",
        "colab_type": "code",
        "colab": {}
      },
      "source": [
        "bias1=alexnet.features[0].bias"
      ],
      "execution_count": 0,
      "outputs": []
    },
    {
      "cell_type": "code",
      "metadata": {
        "id": "dtIxGRBhrHLp",
        "colab_type": "code",
        "colab": {}
      },
      "source": [
        "alexnet3d.features[0].bias=torch.nn.Parameter(bias1)"
      ],
      "execution_count": 0,
      "outputs": []
    },
    {
      "cell_type": "code",
      "metadata": {
        "id": "io_9ZcBjrOk7",
        "colab_type": "code",
        "colab": {}
      },
      "source": [
        "bias2=alexnet.features[3].bias\n",
        "alexnet3d.features[3].bias=torch.nn.Parameter(bias2)"
      ],
      "execution_count": 0,
      "outputs": []
    },
    {
      "cell_type": "code",
      "metadata": {
        "id": "A6EuR_pnrqxG",
        "colab_type": "code",
        "colab": {}
      },
      "source": [
        "bias3=alexnet.features[6].bias\n",
        "alexnet3d.features[6].bias=torch.nn.Parameter(bias3)"
      ],
      "execution_count": 0,
      "outputs": []
    },
    {
      "cell_type": "code",
      "metadata": {
        "id": "wbTebjporw0b",
        "colab_type": "code",
        "colab": {}
      },
      "source": [
        "bias4=alexnet.features[8].bias\n",
        "alexnet3d.features[8].bias=torch.nn.Parameter(bias4)"
      ],
      "execution_count": 0,
      "outputs": []
    },
    {
      "cell_type": "code",
      "metadata": {
        "id": "fvU8AkxKr2Cr",
        "colab_type": "code",
        "colab": {}
      },
      "source": [
        "bias5=alexnet.features[10].bias\n",
        "alexnet3d.features[10].bias=torch.nn.Parameter(bias5)"
      ],
      "execution_count": 0,
      "outputs": []
    },
    {
      "cell_type": "code",
      "metadata": {
        "id": "q6rgUhmO8A56",
        "colab_type": "code",
        "colab": {}
      },
      "source": [
        "import torch.optim as optim\n",
        "\n",
        "criterion = nn.CrossEntropyLoss()\n",
        "optimizer = optim.SGD(alexnet3d.parameters(), lr=0.001, momentum=0.9)\n"
      ],
      "execution_count": 0,
      "outputs": []
    }
  ]
}